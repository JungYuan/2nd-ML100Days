{
 "cells": [
  {
   "cell_type": "markdown",
   "metadata": {},
   "source": [
    "### 作業\n",
    "目前已經學過許多的模型，相信大家對整體流程應該比較掌握了，這次作業請改用**手寫辨識資料集**，步驟流程都是一樣的，請試著自己撰寫程式碼來完成所有步驟"
   ]
  },
  {
   "cell_type": "code",
   "execution_count": 33,
   "metadata": {},
   "outputs": [
    {
     "name": "stdout",
     "output_type": "stream",
     "text": [
      "Acuuracy:  0.9777777777777777\n"
     ]
    }
   ],
   "source": [
    "from sklearn import datasets, metrics\n",
    "from sklearn.ensemble import GradientBoostingClassifier, GradientBoostingRegressor\n",
    "from sklearn.model_selection import train_test_split\n",
    "import numpy as np\n",
    "\n",
    "digits = datasets.load_digits()\n",
    "x_train, x_test, y_train, y_test = train_test_split(digits.data, digits.target, test_size=0.1, random_state=4)\n",
    "lrn_model = GradientBoostingClassifier(learning_rate=0.1, min_samples_split=500,min_samples_leaf=50,max_depth=8,\n",
    "                                            max_features='sqrt',subsample=0.8,random_state=10)\n",
    "lrn_model.fit(x_train, y_train)\n",
    "y_pred = lrn_model.predict(x_test)\n",
    "acc_score = metrics.accuracy_score(y_test, y_pred)\n",
    "print(\"Acuuracy: \", acc_score) "
   ]
  },
  {
   "cell_type": "code",
   "execution_count": 34,
   "metadata": {},
   "outputs": [
    {
     "name": "stdout",
     "output_type": "stream",
     "text": [
      "n_estimators : 20   and Acuuracy:  0.8833333333333333\n",
      "n_estimators : 30   and Acuuracy:  0.9222222222222223\n",
      "n_estimators : 40   and Acuuracy:  0.95\n",
      "n_estimators : 50   and Acuuracy:  0.9666666666666667\n",
      "n_estimators : 60   and Acuuracy:  0.9722222222222222\n",
      "n_estimators : 70   and Acuuracy:  0.9777777777777777\n",
      "n_estimators : 80   and Acuuracy:  0.9722222222222222\n"
     ]
    }
   ],
   "source": [
    "for x in range(20, 81, 10):\n",
    "    lrn_model = GradientBoostingClassifier(learning_rate=0.1, min_samples_split=500,min_samples_leaf=50,max_depth=8,\n",
    "                                            max_features='sqrt',subsample=0.8,random_state=10, n_estimators=x)\n",
    "    lrn_model.fit(x_train, y_train)\n",
    "    y_pred = lrn_model.predict(x_test)\n",
    "    acc_score = metrics.accuracy_score(y_test, y_pred)\n",
    "    print(\"n_estimators :\", x, \"  and Acuuracy: \", acc_score) "
   ]
  },
  {
   "cell_type": "code",
   "execution_count": 35,
   "metadata": {},
   "outputs": [
    {
     "name": "stdout",
     "output_type": "stream",
     "text": [
      "max_depth : 3   and Acuuracy:  0.9722222222222222\n",
      "max_depth : 4   and Acuuracy:  0.9777777777777777\n",
      "max_depth : 5   and Acuuracy:  0.9777777777777777\n",
      "max_depth : 6   and Acuuracy:  0.9777777777777777\n",
      "max_depth : 7   and Acuuracy:  0.9777777777777777\n",
      "max_depth : 8   and Acuuracy:  0.9777777777777777\n",
      "max_depth : 9   and Acuuracy:  0.9777777777777777\n",
      "max_depth : 10   and Acuuracy:  0.9777777777777777\n",
      "max_depth : 11   and Acuuracy:  0.9777777777777777\n",
      "max_depth : 12   and Acuuracy:  0.9777777777777777\n",
      "max_depth : 13   and Acuuracy:  0.9777777777777777\n",
      "max_depth : 14   and Acuuracy:  0.9777777777777777\n"
     ]
    }
   ],
   "source": [
    "for x in range(3, 15):\n",
    "    lrn_model = GradientBoostingClassifier(learning_rate=0.1, min_samples_split=500,min_samples_leaf=50,max_depth=x,\n",
    "                                            max_features='sqrt',subsample=0.8,random_state=10, n_estimators=70, )\n",
    "    lrn_model.fit(x_train, y_train)\n",
    "    y_pred = lrn_model.predict(x_test)\n",
    "    acc_score = metrics.accuracy_score(y_test, y_pred)\n",
    "    print(\"max_depth :\", x, \"  and Acuuracy: \", acc_score) "
   ]
  },
  {
   "cell_type": "code",
   "execution_count": 36,
   "metadata": {},
   "outputs": [
    {
     "name": "stdout",
     "output_type": "stream",
     "text": [
      "mmin_samples_leaf : 20   and Acuuracy:  0.9777777777777777\n",
      "mmin_samples_leaf : 30   and Acuuracy:  0.9777777777777777\n",
      "mmin_samples_leaf : 40   and Acuuracy:  0.9722222222222222\n",
      "mmin_samples_leaf : 50   and Acuuracy:  0.9777777777777777\n",
      "mmin_samples_leaf : 60   and Acuuracy:  0.9722222222222222\n",
      "mmin_samples_leaf : 70   and Acuuracy:  0.9777777777777777\n",
      "mmin_samples_leaf : 80   and Acuuracy:  0.9777777777777777\n",
      "mmin_samples_leaf : 90   and Acuuracy:  0.9722222222222222\n"
     ]
    }
   ],
   "source": [
    "for x in range(20, 100, 10):\n",
    "    lrn_model = GradientBoostingClassifier(learning_rate=0.1, min_samples_split=500,min_samples_leaf=x,max_depth=4,\n",
    "                                            max_features='sqrt',subsample=0.8,random_state=10, n_estimators=70, )\n",
    "    lrn_model.fit(x_train, y_train)\n",
    "    y_pred = lrn_model.predict(x_test)\n",
    "    acc_score = metrics.accuracy_score(y_test, y_pred)\n",
    "    print(\"mmin_samples_leaf :\", x, \"  and Acuuracy: \", acc_score) "
   ]
  },
  {
   "cell_type": "code",
   "execution_count": 37,
   "metadata": {},
   "outputs": [
    {
     "name": "stdout",
     "output_type": "stream",
     "text": [
      "mmin_samples_split : 100   and Acuuracy:  0.9833333333333333\n",
      "mmin_samples_split : 150   and Acuuracy:  0.9833333333333333\n",
      "mmin_samples_split : 200   and Acuuracy:  0.9833333333333333\n",
      "mmin_samples_split : 250   and Acuuracy:  0.9777777777777777\n",
      "mmin_samples_split : 300   and Acuuracy:  0.9833333333333333\n",
      "mmin_samples_split : 350   and Acuuracy:  0.9777777777777777\n",
      "mmin_samples_split : 400   and Acuuracy:  0.9833333333333333\n",
      "mmin_samples_split : 450   and Acuuracy:  0.9833333333333333\n",
      "mmin_samples_split : 500   and Acuuracy:  0.9777777777777777\n",
      "mmin_samples_split : 550   and Acuuracy:  0.9722222222222222\n",
      "mmin_samples_split : 600   and Acuuracy:  0.9833333333333333\n",
      "mmin_samples_split : 650   and Acuuracy:  0.9777777777777777\n",
      "mmin_samples_split : 700   and Acuuracy:  0.9611111111111111\n",
      "mmin_samples_split : 750   and Acuuracy:  0.9611111111111111\n",
      "mmin_samples_split : 800   and Acuuracy:  0.9666666666666667\n",
      "mmin_samples_split : 850   and Acuuracy:  0.9611111111111111\n",
      "mmin_samples_split : 900   and Acuuracy:  0.9611111111111111\n",
      "mmin_samples_split : 950   and Acuuracy:  0.9611111111111111\n"
     ]
    }
   ],
   "source": [
    "for x in range(100, 1000, 50):\n",
    "    lrn_model = GradientBoostingClassifier(learning_rate=0.1, min_samples_split=x,min_samples_leaf=20,max_depth=4,\n",
    "                                            max_features='sqrt',subsample=0.8,random_state=10, n_estimators=70, )\n",
    "    lrn_model.fit(x_train, y_train)\n",
    "    y_pred = lrn_model.predict(x_test)\n",
    "    acc_score = metrics.accuracy_score(y_test, y_pred)\n",
    "    print(\"mmin_samples_split :\", x, \"  and Acuuracy: \", acc_score) "
   ]
  },
  {
   "cell_type": "code",
   "execution_count": 38,
   "metadata": {},
   "outputs": [
    {
     "name": "stdout",
     "output_type": "stream",
     "text": [
      "mmin_samples_split : 950   and Acuuracy:  0.9833333333333333\n"
     ]
    }
   ],
   "source": [
    "lrn_model = GradientBoostingClassifier(learning_rate=0.1, min_samples_split=100, min_samples_leaf=20,max_depth=4,\n",
    "                                            max_features='sqrt',subsample=0.8,random_state=10, n_estimators=70)\n",
    "lrn_model.fit(x_train, y_train)\n",
    "y_pred = lrn_model.predict(x_test)\n",
    "acc_score = metrics.accuracy_score(y_test, y_pred)\n",
    "print(\"mmin_samples_split :\", x, \"  and Acuuracy: \", acc_score) "
   ]
  },
  {
   "cell_type": "code",
   "execution_count": null,
   "metadata": {},
   "outputs": [],
   "source": []
  }
 ],
 "metadata": {
  "kernelspec": {
   "display_name": "Python 3",
   "language": "python",
   "name": "python3"
  },
  "language_info": {
   "codemirror_mode": {
    "name": "ipython",
    "version": 3
   },
   "file_extension": ".py",
   "mimetype": "text/x-python",
   "name": "python",
   "nbconvert_exporter": "python",
   "pygments_lexer": "ipython3",
   "version": "3.6.5"
  }
 },
 "nbformat": 4,
 "nbformat_minor": 2
}
