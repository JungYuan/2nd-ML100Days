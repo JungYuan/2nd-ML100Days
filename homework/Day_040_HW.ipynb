{
 "cells": [
  {
   "cell_type": "markdown",
   "metadata": {},
   "source": [
    "## [作業重點]\n",
    "使用 Sklearn 中的 Lasso, Ridge 模型，來訓練各種資料集，務必了解送進去模型訓練的**資料型態**為何，也請了解模型中各項參數的意義。\n",
    "\n",
    "機器學習的模型非常多種，但要訓練的資料多半有固定的格式，確保你了解訓練資料的格式為何，這樣在應用新模型時，就能夠最快的上手開始訓練！"
   ]
  },
  {
   "cell_type": "markdown",
   "metadata": {},
   "source": [
    "## 練習時間\n",
    "試著使用 sklearn datasets 的其他資料集 (boston, ...)，來訓練自己的線性迴歸模型，並加上適當的正則話來觀察訓練情形。"
   ]
  },
  {
   "cell_type": "code",
   "execution_count": 6,
   "metadata": {},
   "outputs": [
    {
     "name": "stdout",
     "output_type": "stream",
     "text": [
      "coef = [-1.13055924e-01  3.01104641e-02  4.03807204e-02  2.78443820e+00\n",
      " -1.72026334e+01  4.43883520e+00 -6.29636221e-03 -1.44786537e+00\n",
      "  2.62429736e-01 -1.06467863e-02 -9.15456240e-01  1.23513347e-02\n",
      " -5.08571424e-01]\n",
      "MER =  24.291119474973456\n",
      "r2_score =  0.6687594935356329\n"
     ]
    }
   ],
   "source": [
    "import numpy as np\n",
    "import matplotlib.pyplot as plt\n",
    "from sklearn import datasets, linear_model\n",
    "from sklearn.model_selection import train_test_split\n",
    "from sklearn.metrics import mean_squared_error, r2_score\n",
    "\n",
    "# boston with LinearRegression\n",
    "boston = datasets.load_boston()\n",
    "x_train, x_test, y_train, y_test = train_test_split(boston.data, boston.target, test_size=0.2, random_state=42)\n",
    "regr = linear_model.LinearRegression()\n",
    "regr.fit(x_train, y_train)\n",
    "y_pred = regr.predict(x_test)\n",
    "print(\"coef =\", regr.coef_)\n",
    "print(\"MER = \", mean_squared_error(y_test, y_pred))\n",
    "print(\"r2_score = \", r2_score(y_test, y_pred))"
   ]
  },
  {
   "cell_type": "code",
   "execution_count": 13,
   "metadata": {},
   "outputs": [
    {
     "name": "stdout",
     "output_type": "stream",
     "text": [
      "coef(a:0.01) = [-1.11311800e-01  3.09610605e-02  2.60617482e-02  2.57076499e+00\n",
      " -1.38392323e+01  4.43831668e+00 -8.49500066e-03 -1.39603234e+00\n",
      "  2.56384236e-01 -1.09964721e-02 -8.77833191e-01  1.24841641e-02\n",
      " -5.16627679e-01]\n",
      "MER(a:0.01) =  24.30333560289059\n",
      "r2_score(a:0.01) =  0.6685929109949444\n",
      "coef(a:0.1) = [-0.10415691  0.03489335 -0.01678527  0.91995182 -0.          4.31168655\n",
      " -0.01512583 -1.15148729  0.23923695 -0.01296223 -0.73224678  0.01309057\n",
      " -0.56467442]\n",
      "MER(a:0.1) =  25.15559375393417\n",
      "r2_score(a:0.1) =  0.6569712802223937\n",
      "coef(a:1) = [-0.07660927  0.02850064 -0.          0.         -0.          1.63048892\n",
      "  0.01639478 -0.63085765  0.21965363 -0.01228558 -0.70858233  0.0111811\n",
      " -0.74710661]\n",
      "MER(a:1) =  24.409489761299707\n",
      "r2_score(a:1) =  0.6671453631686304\n",
      "coef(a:10) = [-0.          0.00632092 -0.          0.          0.          0.\n",
      "  0.         -0.          0.         -0.0090727  -0.          0.00989229\n",
      " -0.60414765]\n",
      "MER(a:10) =  34.68576620696991\n",
      "r2_score(a:10) =  0.5270151802868319\n"
     ]
    }
   ],
   "source": [
    "# boston with Lasso\n",
    "boston = datasets.load_boston()\n",
    "x_train, x_test, y_train, y_test = train_test_split(boston.data, boston.target, test_size=0.2, random_state=42)\n",
    "regr = linear_model.Lasso(alpha=0.01)\n",
    "regr.fit(x_train, y_train)\n",
    "y_pred = regr.predict(x_test)\n",
    "print(\"coef(a:0.01) =\", regr.coef_)\n",
    "print(\"MER(a:0.01) = \", mean_squared_error(y_test, y_pred))\n",
    "print(\"r2_score(a:0.01) = \", r2_score(y_test, y_pred))\n",
    "regr = linear_model.Lasso(alpha=0.1)\n",
    "regr.fit(x_train, y_train)\n",
    "y_pred = regr.predict(x_test)\n",
    "print(\"coef(a:0.1) =\", regr.coef_)\n",
    "print(\"MER(a:0.1) = \", mean_squared_error(y_test, y_pred))\n",
    "print(\"r2_score(a:0.1) = \", r2_score(y_test, y_pred))\n",
    "regr = linear_model.Lasso(alpha=1)\n",
    "regr.fit(x_train, y_train)\n",
    "y_pred = regr.predict(x_test)\n",
    "print(\"coef(a:1) =\", regr.coef_)\n",
    "print(\"MER(a:1) = \", mean_squared_error(y_test, y_pred))\n",
    "print(\"r2_score(a:1) = \", r2_score(y_test, y_pred))\n",
    "regr = linear_model.Lasso(alpha=10)\n",
    "regr.fit(x_train, y_train)\n",
    "y_pred = regr.predict(x_test)\n",
    "print(\"coef(a:10) =\", regr.coef_)\n",
    "print(\"MER(a:10) = \", mean_squared_error(y_test, y_pred))\n",
    "print(\"r2_score(a:10) = \", r2_score(y_test, y_pred))"
   ]
  },
  {
   "cell_type": "code",
   "execution_count": 14,
   "metadata": {},
   "outputs": [
    {
     "name": "stdout",
     "output_type": "stream",
     "text": [
      "coef(a:0.01) = [-1.12985398e-01  3.01477290e-02  3.97929679e-02  2.78084775e+00\n",
      " -1.70656728e+01  4.43960807e+00 -6.40468889e-03 -1.44590837e+00\n",
      "  2.62172574e-01 -1.06610344e-02 -9.13880463e-01  1.23566074e-02\n",
      " -5.08818863e-01]\n",
      "MER(a:0.01) =  24.291746282968255\n",
      "r2_score(a:0.01) =  0.6687509462063149\n",
      "coef(a:0.1) = [-1.12399694e-01  3.04593914e-02  3.48958400e-02  2.75033318e+00\n",
      " -1.59244585e+01  4.44577949e+00 -7.30474388e-03 -1.42960751e+00\n",
      "  2.60042840e-01 -1.07802286e-02 -9.00771040e-01  1.24004789e-02\n",
      " -5.10902332e-01]\n",
      "MER(a:0.1) =  24.30102550019277\n",
      "r2_score(a:0.1) =  0.6686244122021407\n",
      "coef(a:1) = [-1.09234061e-01  3.22706863e-02  7.49805942e-03  2.54546998e+00\n",
      " -9.53795159e+00  4.46450537e+00 -1.21910176e-02 -1.33870040e+00\n",
      "  2.48881816e-01 -1.14746211e-02 -8.28604284e-01  1.26421124e-02\n",
      " -5.23833016e-01]\n",
      "MER(a:1) =  24.477191227708683\n",
      "r2_score(a:1) =  0.6662221670168518\n",
      "coef(a:10) = [-0.10713363  0.03555248 -0.02627747  1.81329133 -1.88924475  4.19532572\n",
      " -0.01534126 -1.23262135  0.24803063 -0.01274419 -0.76176896  0.01283334\n",
      " -0.561835  ]\n",
      "MER(a:10) =  24.648347618693638\n",
      "r2_score(a:10) =  0.6638882305470699\n"
     ]
    }
   ],
   "source": [
    "# boston with Ridge\n",
    "boston = datasets.load_boston()\n",
    "x_train, x_test, y_train, y_test = train_test_split(boston.data, boston.target, test_size=0.2, random_state=42)\n",
    "regr = linear_model.Ridge(alpha=0.01)\n",
    "regr.fit(x_train, y_train)\n",
    "y_pred = regr.predict(x_test)\n",
    "print(\"coef(a:0.01) =\", regr.coef_)\n",
    "print(\"MER(a:0.01) = \", mean_squared_error(y_test, y_pred))\n",
    "print(\"r2_score(a:0.01) = \", r2_score(y_test, y_pred))\n",
    "regr = linear_model.Ridge(alpha=0.1)\n",
    "regr.fit(x_train, y_train)\n",
    "y_pred = regr.predict(x_test)\n",
    "print(\"coef(a:0.1) =\", regr.coef_)\n",
    "print(\"MER(a:0.1) = \", mean_squared_error(y_test, y_pred))\n",
    "print(\"r2_score(a:0.1) = \", r2_score(y_test, y_pred))\n",
    "regr = linear_model.Ridge(alpha=1)\n",
    "regr.fit(x_train, y_train)\n",
    "y_pred = regr.predict(x_test)\n",
    "print(\"coef(a:1) =\", regr.coef_)\n",
    "print(\"MER(a:1) = \", mean_squared_error(y_test, y_pred))\n",
    "print(\"r2_score(a:1) = \", r2_score(y_test, y_pred))\n",
    "regr = linear_model.Ridge(alpha=10)\n",
    "regr.fit(x_train, y_train)\n",
    "y_pred = regr.predict(x_test)\n",
    "print(\"coef(a:10) =\", regr.coef_)\n",
    "print(\"MER(a:10) = \", mean_squared_error(y_test, y_pred))\n",
    "print(\"r2_score(a:10) = \", r2_score(y_test, y_pred))"
   ]
  },
  {
   "cell_type": "code",
   "execution_count": null,
   "metadata": {},
   "outputs": [],
   "source": []
  }
 ],
 "metadata": {
  "kernelspec": {
   "display_name": "Python 3",
   "language": "python",
   "name": "python3"
  },
  "language_info": {
   "codemirror_mode": {
    "name": "ipython",
    "version": 3
   },
   "file_extension": ".py",
   "mimetype": "text/x-python",
   "name": "python",
   "nbconvert_exporter": "python",
   "pygments_lexer": "ipython3",
   "version": "3.7.3"
  }
 },
 "nbformat": 4,
 "nbformat_minor": 2
}
